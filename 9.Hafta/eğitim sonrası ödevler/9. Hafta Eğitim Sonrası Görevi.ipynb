{
 "cells": [
  {
   "attachments": {},
   "cell_type": "markdown",
   "metadata": {},
   "source": [
    "# Problem 1\n",
    "\n",
    "Kumanda isminde bir sınıf oluşturarak aşağıdaki işlemleri yapmasını sağlayan fonksiyonları sınıf içerisinde yazalım.\n",
    "1. Tv Aç\n",
    "2. Tv Kapat\n",
    "3. Ses Ayarları\n",
    "4. Kanal Ekle\n",
    "5. Kanal Sayısını Öğrenme\n",
    "6. Rastgele Kanala Geçme\n",
    "7. Televizyon Bilgileri\n",
    "\n",
    "\n",
    "Kumandayı kapatmak için q tuşuna basılmalı ve diğer durumlarda hangi işlemi yapmak istediği sorulmalıdır. Her işlemde gerekli fonksiyonunun sınıf içerisinden çağırılması gerekmektedir.\n",
    "\n",
    "random ve time kütüphanesini araştırarak kullanabilirsiniz.\n",
    "\n",
    "Kendi istediğiniz özellikleri eklemekte serbetsiniz."
   ]
  },
  {
   "cell_type": "code",
   "execution_count": 26,
   "metadata": {},
   "outputs": [
    {
     "ename": "IndentationError",
     "evalue": "unindent does not match any outer indentation level (<string>, line 21)",
     "output_type": "error",
     "traceback": [
      "\u001b[1;36m  File \u001b[1;32m<string>:21\u001b[1;36m\u001b[0m\n\u001b[1;33m    print(\"tv kapanıyor\")\u001b[0m\n\u001b[1;37m                         ^\u001b[0m\n\u001b[1;31mIndentationError\u001b[0m\u001b[1;31m:\u001b[0m unindent does not match any outer indentation level\n"
     ]
    }
   ],
   "source": [
    "# 1.Problemin Çözümünü Buraya Yazınız.\n",
    "import time \n",
    "import random\n",
    "class Kumanda:\n",
    "    def __init__(self, name, volume, tvStatu, acmaKapama, kanalListesi)\n",
    "        self.name= name\n",
    "        self.volume = volume\n",
    "        self.acmaKapama = acmaKapama\n",
    "        self.kanalListesi = kanalListesi\n",
    "        self.tvStatu = tvStatu\n",
    "        def tvAc(self):\n",
    "            if self.tvStatu == False:\n",
    "                self.tvStatu == True\n",
    "                print(\"tv açılıyor.\")\n",
    "            else:\n",
    "                print(\"tv açık.\")\n",
    "\n",
    "    def tvKapat(self):\n",
    "         if self.tvStatu == True:\n",
    "             self.tvStatu = False\n",
    "        print(\"tv kapanıyor\")\n",
    "\n",
    "    def sesAyarla(self):\n",
    "        if self.tvStatu == False:\n",
    "            print(\"kapalı şu an\")\n",
    "\n",
    "        while True:\n",
    "            inp = input(\"sesi azalt: < \\n sesi arttır: >\")\n",
    "            if inp == \"q\":\n",
    "                break\n",
    "            elif inp == \"<\" and self.volume > 0:\n",
    "                self.volume -= 1\n",
    "            elif inp == \">\" and self.volume < 100:\n",
    "                self.volume += 1\n",
    "            elif inp == \">>\"and self.volume > 4:\n",
    "                self.volume -= 5\n",
    "            elif inp == \"<<\" and self.volume < 96:\n",
    "                self.volume += 5\n",
    "            print(\"ses:\", self.volume)\n",
    "        print(\"ses ayarı bitti. güncel ses durumu: \"+ str(self.volume))\n",
    "    \n",
    "    def kanalEkle(self, kanal):\n",
    "        if  self.tvStatu == True:\n",
    "            self.kanalListesi.append(kanal)\n",
    "            print(f\"{kanal} kanal listeye eklendi\")\n",
    "\n",
    "    def rastgeleKanal(self):\n",
    "         if self.tvStatu == True:\n",
    "            rastgele = random.randint(0,len(self.kanalListesi)-1)\n",
    "            self.kanal = self.kanalListesi(rastgele)\n",
    "            print(\"şu anki kanal:\", self.kanal)\n",
    "\n",
    "    @override\n",
    "    def __len__(self):\n",
    "        return len(self.kanalListesi)\n",
    "    def __str__(self):\n",
    "        return f\"Tv durumu:\" {self.tvStatu}\\nKanalListesi: {self.kanalListesi} \\nGüncel kanal: {self.kanal}\\nTvSesi: {self.volume}\n",
    "\n",
    "kumanda: Kumanda(\"şakir\", volume=0, tvStatu=False, kanalListesi = {})\n",
    "while True:\n",
    "    inp = input(\"işlem girin:\")\n",
    "    if inp == \"q\":\n",
    "        print(\"kumandayı kapattınız.\")\n",
    "        break\n",
    "    elif inp == \"1\":\n",
    "        kumanda.tvAc()\n",
    "    elif inp == \"2\":\n",
    "        kumanda.tvKapat()\n",
    "    elif inp == \"3\":\n",
    "        kumanda.sesAyarla()\n",
    "    elif inp == \"4\":\n",
    "        kanalİisim = input(\"kanal ismini girin.\")\n",
    "        kumanda.kanalEkle(kanalİisim)\n",
    "    elif inp == \"5\":\n",
    "        print(\"kanal sayısı:\", len(kumanda))\n",
    "    elif inp == \"6\":\n",
    "        kumanda.rastgeleKanal()\n",
    "    elif inp == \"7\":\n",
    "        print(kumanda)\n",
    "    else:\n",
    "        print(\"geçersiz işlemdur.\")\n",
    "\n",
    "\n",
    "\n",
    "\n",
    "\n"
   ]
  }
 ],
 "metadata": {
  "kernelspec": {
   "display_name": "Python 3",
   "language": "python",
   "name": "python3"
  },
  "language_info": {
   "codemirror_mode": {
    "name": "ipython",
    "version": 3
   },
   "file_extension": ".py",
   "mimetype": "text/x-python",
   "name": "python",
   "nbconvert_exporter": "python",
   "pygments_lexer": "ipython3",
   "version": "3.12.3"
  },
  "orig_nbformat": 4,
  "vscode": {
   "interpreter": {
    "hash": "5026d2d6e7aaaaba093def813beadff083d8733e4a511af01735cbabd156995d"
   }
  }
 },
 "nbformat": 4,
 "nbformat_minor": 2
}
