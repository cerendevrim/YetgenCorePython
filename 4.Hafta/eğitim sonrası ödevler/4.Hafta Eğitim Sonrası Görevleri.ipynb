{
 "cells": [
  {
   "cell_type": "markdown",
   "metadata": {},
   "source": [
    "# Problem 1\n",
    "`ogrenciler` adında bir sözlük oluşturunuz. Kullanıcıdan döngü yardımıyla 3 öğrenci için veri girmesini isteyerek öğrencilerin sırasıyla okul numarası, isim, soy isim, telefon numarası ve doğum tarihi bilgilerini alınız. Aldığınız öğrenci bilgilerini yine aynı döngü yardımıyla `ogrenciler` adındaki sözlükte saklayınız. Daha sonra öğrenci bilgilerinin bulunduğu sözlük yapısını ekrana bastırınız.\n",
    "\n"
   ]
  },
  {
   "cell_type": "code",
   "execution_count": 76,
   "metadata": {},
   "outputs": [
    {
     "name": "stdout",
     "output_type": "stream",
     "text": [
      "{3: {'no': '34567890', 'isim': 'dfghjkl', 'soyisim': 'ftghjkl', 'telefon no': '4567890', 'doğum tarihi': '4567890'}}\n"
     ]
    }
   ],
   "source": [
    "# 1.Problemin Çözümünü Buraya Yazınız\n",
    "ogrenciler = {}\n",
    "for i in range(1, 4):\n",
    "    okulNumarası = input(f\" {i }okul numarası giriniz\")\n",
    "    isim = input(f\" {i} isim giriniz\")\n",
    "    soyIsim = input(f\"{i} soy isim giriniz\")\n",
    "    telefonNo = input(f\"{i} telefon numarası giriniz\")\n",
    "    dogumTarihi = input(f\"{i} doğum tarihi giriniz\")\n",
    "\n",
    "\n",
    "ogrenciler[i] = {\"no\": okulNumarası, \"isim\": isim, \"soyisim\": soyIsim, \"telefon no\": telefonNo, \"doğum tarihi\": dogumTarihi}\n",
    "print(ogrenciler) \n",
    "\n"
   ]
  },
  {
   "cell_type": "markdown",
   "metadata": {},
   "source": [
    "# Problem 2\n",
    "\n",
    "### a - Biraz ısınarak başlayalım!\n",
    "\n",
    "```\n",
    "numbers = [5,10,10,15,15,15,20,20,20,20]\n",
    "```\n",
    "\n",
    "Yukarıda `numbers` adında 10 elemanlı bir liste verilmiştir. Bu listenin her elemanını kontrol eden ve tekrar eden elemanları bir kez olacak şekilde başka bir listeye kopyalayan bir program yazınız. Son olarak oluşturduğunuz listeyi ekrana bastırınız.\n",
    "\n",
    "\n",
    "\n",
    "\n",
    "```\n",
    ">Output\n",
    "[5, 10, 15, 20]\n",
    "```\n"
   ]
  },
  {
   "cell_type": "code",
   "execution_count": 83,
   "metadata": {},
   "outputs": [
    {
     "name": "stdout",
     "output_type": "stream",
     "text": [
      "[10, 20, 5, 15]\n",
      "[10, 20, 5, 15]\n",
      "[10, 20, 5, 15]\n",
      "[10, 20, 5, 15]\n",
      "[10, 20, 5, 15]\n",
      "[10, 20, 5, 15]\n",
      "[10, 20, 5, 15]\n",
      "[10, 20, 5, 15]\n",
      "[10, 20, 5, 15]\n",
      "[10, 20, 5, 15]\n"
     ]
    }
   ],
   "source": [
    "# 2.Problemin a Şıkkının Çözümünü Buraya Yazınız\n",
    "numbers = [5,10,10,15,15,15,20,20,20,20]\n",
    "for number in numbers:\n",
    "    if number not in unique:\n",
    "     unique.append(number)\n",
    "    print(unique)\n"
   ]
  },
  {
   "cell_type": "markdown",
   "metadata": {},
   "source": [
    "### 🌶️ b) Hadi işi biraz daha zorlaştıralım! \n",
    "\n",
    "\n",
    "Şimdiyse senden `numbers` isimli listedeki tekrar eden elemanları `repeatNumbers` adındaki listeye; tekrar etmeyen elemanları `uniqueNumbers`adındaki listeye kopyalayan yazmanı ve listeleri ekrana bastırmanı bekliyoruz\n",
    "\n",
    "```\n",
    ">Output\n",
    "Tekrar Eden Elemanlar: [10, 10, 15, 15, 15, 20, 20, 20, 20]\n",
    "Tekrar Etmeyen Elemanlar: [5]\n",
    "```"
   ]
  },
  {
   "cell_type": "code",
   "execution_count": 86,
   "metadata": {},
   "outputs": [
    {
     "name": "stdout",
     "output_type": "stream",
     "text": [
      "tekrar eden elemanlar: [10, 10, 15, 15, 15, 20, 20, 20, 20]\n",
      "tekrar etmeyen elemanlar: [5]\n"
     ]
    }
   ],
   "source": [
    "# 2.Problemin b Şıkkının Çözümünü Buraya Yazınız\n",
    "numbers = [5,10,10,15,15,15,20,20,20,20]\n",
    "unique = []\n",
    "repeat = []\n",
    "for number in numbers:\n",
    "    if numbers.count(number) == 1:\n",
    "        unique.append(number)\n",
    "    else:\n",
    "        repeat.append(number)\n",
    "    \n",
    "print(\"tekrar eden elemanlar:\", repeat)\n",
    "print(\"tekrar etmeyen elemanlar:\", unique)\n"
   ]
  },
  {
   "cell_type": "markdown",
   "metadata": {},
   "source": [
    "# Problem 3\n",
    "sn1 = {1,2,3,4,5}\n",
    "\n",
    "sn2 = {4,5,6,7,8}\n",
    "\n",
    " Verilen 2 adet küme için kesişimlerini, farklarını ve birleşimlerini bulunuz. "
   ]
  },
  {
   "cell_type": "code",
   "execution_count": 10,
   "metadata": {},
   "outputs": [
    {
     "name": "stdout",
     "output_type": "stream",
     "text": [
      "{4, 5}\n"
     ]
    }
   ],
   "source": [
    "# 3.Problemin Çözümünü Buraya Yazınız\n",
    "sn1 = {1,2,3,4,5}\n",
    "sn2 = {4,5,6,7,8}\n",
    "kesisim = sn1.intersection(sn2)\n",
    "print(kesisim)"
   ]
  },
  {
   "cell_type": "code",
   "execution_count": 11,
   "metadata": {},
   "outputs": [
    {
     "name": "stdout",
     "output_type": "stream",
     "text": [
      "{1, 2, 3, 4, 5, 6, 7, 8}\n"
     ]
    }
   ],
   "source": [
    "birlesim = sn1.union(sn2)\n",
    "print(birlesim)"
   ]
  },
  {
   "cell_type": "code",
   "execution_count": 12,
   "metadata": {},
   "outputs": [
    {
     "name": "stdout",
     "output_type": "stream",
     "text": [
      "{1, 2, 3}\n",
      "{8, 6, 7}\n"
     ]
    }
   ],
   "source": [
    "farklar1 = sn1.difference(sn2)\n",
    "print(farklar1)\n",
    "farklar2 = sn2.difference(sn1)\n",
    "print(farklar2)"
   ]
  },
  {
   "cell_type": "markdown",
   "metadata": {},
   "source": [
    "# Problem 4\n",
    "\n",
    "Buradaki işlemlerimizin tamamı stringler içindir. Aşağıda verilecek olan metodlar için kendinizin örnek yaratması gerekmektedir. \n",
    "\n",
    "Örneğin `upper` için `string` değişkeni oluştururken` k = \"BAC\"` şeklinde oluşturmayınız. Bunun yerine k değişkenini `k = \"bac`\" şeklinde oluşturmanız `upper` metodundaki değişimi görebilmeniz için daha iyi olacaktır.\n",
    "\n",
    "Bütün metodlardaki değişimin gözle görülür şekilde değişimi beklenmektedir.\n",
    "\n",
    "\n",
    "1- capitalize(), lower(), upper(), swapcase(), title(), replace()\n",
    "\n",
    "2- endswith(), startswith(), find(), index(), count()\n",
    "\n",
    "3- split(), strip(), join(), islower(), isalpha(), isdigit()\n",
    "\n",
    "\n",
    "Yukarıdaki `string` metodlarındaki değişimleri görebildiğimiz bir program yazınız.\n"
   ]
  },
  {
   "cell_type": "code",
   "execution_count": 87,
   "metadata": {},
   "outputs": [
    {
     "name": "stdout",
     "output_type": "stream",
     "text": [
      "Abc\n",
      "abc\n",
      "ABC\n",
      "AbC\n",
      "Abc\n",
      "aBD\n",
      "True\n",
      "True\n",
      "3\n",
      "5\n",
      "['WEp', 'NK']\n",
      "WEptNK\n",
      "False\n",
      "True\n",
      "False\n"
     ]
    }
   ],
   "source": [
    "# 4.Problemin Çözümünü Buraya Yazınız\n",
    "#1.\n",
    "s = \"aBc\"\n",
    "sCapitalize = s.capitalize()\n",
    "print(sCapitalize)\n",
    "sLower = s.lower()\n",
    "print(sLower)\n",
    "sUpper = s.upper()\n",
    "print(sUpper)\n",
    "sSwapcase = s.swapcase()\n",
    "print(sSwapcase)\n",
    "sTitle = s.title()\n",
    "print(sTitle)\n",
    "sReplace = s.replace(\"c\", \"D\")\n",
    "print(sReplace)\n",
    "#2.\n",
    "c = \"dlMThs\"\n",
    "cEndswith = c.endswith(\"hs\")\n",
    "print(cEndswith)\n",
    "cStartswith = c.startswith(\"dl\")\n",
    "print(cStartswith)\n",
    "cFind = c.find(\"T\")\n",
    "print(cFind)\n",
    "cİndex = c.index(\"s\")\n",
    "print(cİndex)\n",
    "c.count(\"M\")\n",
    "#3.\n",
    "d = \"WEptNK\"\n",
    "dSplit = d.split(\"t\")\n",
    "print(dSplit)\n",
    "#yanlış\n",
    "dStrip = d.strip()\n",
    "print(dStrip)\n",
    "#dJoin = o.join(d)\n",
    "#print(dJoin)\n",
    "dİslower = d.islower()\n",
    "print(dİslower)\n",
    "dİsalpha = d.isalpha()\n",
    "print(dİsalpha)\n",
    "dİsdigit = d.isdigit()\n",
    "print(dİsdigit)"
   ]
  }
 ],
 "metadata": {
  "kernelspec": {
   "display_name": "Python 3.10.5 64-bit",
   "language": "python",
   "name": "python3"
  },
  "language_info": {
   "codemirror_mode": {
    "name": "ipython",
    "version": 3
   },
   "file_extension": ".py",
   "mimetype": "text/x-python",
   "name": "python",
   "nbconvert_exporter": "python",
   "pygments_lexer": "ipython3",
   "version": "3.12.3"
  },
  "orig_nbformat": 4,
  "vscode": {
   "interpreter": {
    "hash": "5026d2d6e7aaaaba093def813beadff083d8733e4a511af01735cbabd156995d"
   }
  }
 },
 "nbformat": 4,
 "nbformat_minor": 2
}
