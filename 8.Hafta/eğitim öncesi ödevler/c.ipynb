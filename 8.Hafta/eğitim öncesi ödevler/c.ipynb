{
 "cells": [
  {
   "cell_type": "code",
   "execution_count": 11,
   "metadata": {},
   "outputs": [
    {
     "name": "stdout",
     "output_type": "stream",
     "text": [
      "<_io.TextIOWrapper name='cd.txt' mode='r' encoding='cp1254'>\n"
     ]
    }
   ],
   "source": [
    "#r okuma modunda açmayı sağlıyor.\n",
    "#w olursa yazma modunda. dosya varsa siler yeni dosya olışturur.\n",
    "#dosya açmak ve oluşturmak için open()\n",
    "#close() dosyayı kapatır.\n",
    "f = open(\"cd.txt\")\n",
    "print(f)\n",
    "f.close()"
   ]
  },
  {
   "cell_type": "code",
   "execution_count": 15,
   "metadata": {},
   "outputs": [],
   "source": [
    "#read() içine hiçbir değer vermezsen bütün dosyanı okuyacak.\n",
    "#readline() her çalıştırıldığında bir satır okur.\n",
    "#encoding= utf-8 verilmediği zaman türkçe karakterler okunmuyo başka karakterler çıkıyır.\n"
   ]
  },
  {
   "cell_type": "code",
   "execution_count": 14,
   "metadata": {},
   "outputs": [],
   "source": [
    "f = open(\"cd.txt\", \"r\",encoding=\"utf-8\")\n",
    "f.close()"
   ]
  },
  {
   "cell_type": "code",
   "execution_count": 18,
   "metadata": {},
   "outputs": [],
   "source": [
    "f = open(\"cd.txt\",\"w\",encoding=\"utf-8\")\n",
    "f.write(\"ce\")\n",
    "f.close()"
   ]
  },
  {
   "cell_type": "code",
   "execution_count": 19,
   "metadata": {},
   "outputs": [],
   "source": [
    "#a:append() ekleme modu. dosya konumda varsa ekleme\n",
    "#r+ hem okuma hem yazma. konumda yoksa hata verir.\n",
    "f = open(\"cd.txt\", \"a\", encoding=\"utf-8\")\n",
    "f.write(\"jump/n\")\n",
    "f.close()"
   ]
  },
  {
   "cell_type": "code",
   "execution_count": 20,
   "metadata": {},
   "outputs": [
    {
     "name": "stdout",
     "output_type": "stream",
     "text": [
      "cejump/n\n"
     ]
    }
   ],
   "source": [
    "#with open() as file: dosyaları otomatik kapama\n",
    "with open(\"cd.txt\", \"r\",encoding=\"utf-8\") as file:\n",
    "    for i in file:\n",
    "        print(i)"
   ]
  },
  {
   "cell_type": "code",
   "execution_count": 21,
   "metadata": {},
   "outputs": [
    {
     "name": "stdout",
     "output_type": "stream",
     "text": [
      "20\n"
     ]
    }
   ],
   "source": [
    "#seek() metoduyla istediğiniz bayt konumuna dönüş\n",
    "# hangi bayt konumunda olduğunu öğrenmek için de tell()\n",
    "with open(\"cd.txt\", \"r\",encoding=\"utf-8\") as file:\n",
    "    file.seek(20)\n",
    "    print(file.tell())"
   ]
  },
  {
   "cell_type": "code",
   "execution_count": 1,
   "metadata": {},
   "outputs": [
    {
     "name": "stdout",
     "output_type": "stream",
     "text": [
      "\n",
      "devrim\n",
      "ca\n"
     ]
    }
   ],
   "source": [
    "with open(\"cd.txt\", \"r\",encoding=\"utf-8\") as file:\n",
    "    file.seek(5)\n",
    "    icerik = file.read(10)\n",
    "    print(icerik)\n"
   ]
  },
  {
   "cell_type": "code",
   "execution_count": 32,
   "metadata": {},
   "outputs": [],
   "source": [
    "#dosyanın sonunda değişiklik için \n",
    "with open(\"cd.txt\", \"r+\",encoding=\"utf-8\") as file:\n",
    "    file.seek(21)\n",
    "    file.write(\"Deneme\")"
   ]
  },
  {
   "cell_type": "code",
   "execution_count": 33,
   "metadata": {},
   "outputs": [
    {
     "name": "stdout",
     "output_type": "stream",
     "text": [
      "cejump/nDenememe\u0000\u0000\u0000\u0000DDeneme\n"
     ]
    }
   ],
   "source": [
    "with open(\"cd.txt\", \"r+\",encoding=\"utf-8\") as file:\n",
    "    print(file.read())"
   ]
  },
  {
   "cell_type": "code",
   "execution_count": 34,
   "metadata": {},
   "outputs": [],
   "source": [
    "#dosyanın başında değişiklik yapma\n",
    "with open(\"cd.txt\", \"r+\",encoding=\"utf-8\") as file:\n",
    "    icerik = file.read()\n",
    "    icerik = \"Deneme/n\" + icerik\n",
    "    file.seek(0)\n",
    "    file.write(icerik)\n",
    "\n"
   ]
  },
  {
   "cell_type": "code",
   "execution_count": 35,
   "metadata": {},
   "outputs": [
    {
     "name": "stdout",
     "output_type": "stream",
     "text": [
      "Deneme/ncejump/nDenememe\u0000\u0000\u0000\u0000DDeneme\n"
     ]
    }
   ],
   "source": [
    "with open(\"cd.txt\", \"r+\",encoding=\"utf-8\") as file:\n",
    "    print(file.read())"
   ]
  },
  {
   "cell_type": "code",
   "execution_count": 36,
   "metadata": {},
   "outputs": [],
   "source": [
    "#dosyanın ortasında değişiklik yapmak için\n",
    "with open(\"cd.txt\", \"r+\",encoding=\"utf-8\") as file:\n",
    "    liste = file.readlines()\n",
    "    liste.insert(3, \"deneme/n\")\n",
    "    file.seek(0)\n",
    "    file.writelines(liste)"
   ]
  },
  {
   "cell_type": "code",
   "execution_count": 37,
   "metadata": {},
   "outputs": [
    {
     "name": "stdout",
     "output_type": "stream",
     "text": [
      "Deneme/ncejump/nDenememe\u0000\u0000\u0000\u0000DDenemedeneme/n\n"
     ]
    }
   ],
   "source": [
    "with open(\"cd.txt\", \"r+\",encoding=\"utf-8\") as file:\n",
    "    icerik = file.read()\n",
    "    print(icerik)"
   ]
  },
  {
   "cell_type": "code",
   "execution_count": 38,
   "metadata": {},
   "outputs": [],
   "source": [
    "#nesne yönelimli proglama bizi kendini tekrardan kurtarıyor.\n",
    "##class \n",
    "class araba():\n",
    "    #sınıf özellikleri(attribute)\n",
    "    model = \"reno\"\n",
    "    renk = \"kırmızı\"\n",
    "    guc = 110\n",
    "    silindir = 4\n"
   ]
  },
  {
   "cell_type": "code",
   "execution_count": 39,
   "metadata": {},
   "outputs": [
    {
     "name": "stdout",
     "output_type": "stream",
     "text": [
      "reno\n"
     ]
    }
   ],
   "source": [
    "araba1 = araba()\n",
    "print(araba1.model)"
   ]
  },
  {
   "cell_type": "code",
   "execution_count": 40,
   "metadata": {},
   "outputs": [
    {
     "name": "stdout",
     "output_type": "stream",
     "text": [
      "4\n"
     ]
    }
   ],
   "source": [
    "print(araba1.silindir)"
   ]
  },
  {
   "cell_type": "code",
   "execution_count": null,
   "metadata": {},
   "outputs": [],
   "source": [
    "#init otomatik ilk cağrılan fonksiyon "
   ]
  },
  {
   "cell_type": "code",
   "execution_count": 41,
   "metadata": {},
   "outputs": [],
   "source": [
    "class araba():\n",
    "    def __init__(self, model, silindir, renk):\n",
    "        self.model = model\n",
    "        self.renk = renk\n",
    "        self.silindir = silindir\n",
    "        "
   ]
  },
  {
   "cell_type": "code",
   "execution_count": 45,
   "metadata": {},
   "outputs": [
    {
     "name": "stdout",
     "output_type": "stream",
     "text": [
      "pejo\n",
      "4\n"
     ]
    }
   ],
   "source": [
    "araba2 = araba(\"pejo\", \"sarı\", 4)\n",
    "print(araba2.model)\n",
    "print(araba2.renk)"
   ]
  },
  {
   "cell_type": "code",
   "execution_count": null,
   "metadata": {},
   "outputs": [],
   "source": [
    "class comment:\n",
    "    def __init__(self, username, text, likes, dislikes):\n",
    "        self.username =username\n",
    "        self.text =text\n",
    "        self.likes = likes\n",
    "        self.dislikes = dislikes\n"
   ]
  }
 ],
 "metadata": {
  "kernelspec": {
   "display_name": "Python 3",
   "language": "python",
   "name": "python3"
  },
  "language_info": {
   "codemirror_mode": {
    "name": "ipython",
    "version": 3
   },
   "file_extension": ".py",
   "mimetype": "text/x-python",
   "name": "python",
   "nbconvert_exporter": "python",
   "pygments_lexer": "ipython3",
   "version": "3.12.3"
  }
 },
 "nbformat": 4,
 "nbformat_minor": 2
}
