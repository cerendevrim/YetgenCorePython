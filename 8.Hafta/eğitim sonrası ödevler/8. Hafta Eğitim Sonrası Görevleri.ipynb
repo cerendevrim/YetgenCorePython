{
 "cells": [
  {
   "attachments": {},
   "cell_type": "markdown",
   "metadata": {},
   "source": [
    "# Problem 1\n",
    "\n",
    "Şimdi beraber kullanıcılardan aldığımız verileri işleyerek, onlara hem çıktı verecek, hem de aldığımız ve hesapladığımız verileri ileride kullanabilmek adına kaydedeceğiz.\n",
    "\n",
    "\n",
    " **Bu bir veri giriş platformu olacak**\n",
    "\n",
    "\n",
    " * kullanıcıya kaç giriş yapacağını soracağız\n",
    "* kullanıcıdan isim-soyisim, yaş, boy, kilo bilgilerini alarak VKİ hesaplayacağız\n",
    "* ardından bunları sınıflara göre kaydedeceğiz bir dosyaya kaydedeceğiz\n",
    "\n",
    "\n",
    "Sınıflar ise şu şekilde: \n",
    "* 18, 5 kg/m.'nin altında olanlar: Zayıf\n",
    "* 18.5 – 24, 9 kg/m. arasında olanlar: Normal kilolu\n",
    "* 25 – 29, 9 kg/m. arasında olanlar: Fazla kilolu\n",
    "* 30 – 39, 9 kg/m. arasında olanlar: Obez\n",
    "* 40 kg/m.'nin üzerinde olanlar: İleri derecede obez (morbid obez), olarak görülür."
   ]
  },
  {
   "cell_type": "code",
   "execution_count": 18,
   "metadata": {},
   "outputs": [
    {
     "name": "stdout",
     "output_type": "stream",
     "text": [
      "kullanıcı kaydı 1\n"
     ]
    },
    {
     "ename": "TypeError",
     "evalue": "vkiHesapla() takes 1 positional argument but 2 were given",
     "output_type": "error",
     "traceback": [
      "\u001b[1;31m---------------------------------------------------------------------------\u001b[0m",
      "\u001b[1;31mTypeError\u001b[0m                                 Traceback (most recent call last)",
      "Cell \u001b[1;32mIn[18], line 37\u001b[0m\n\u001b[0;32m     35\u001b[0m \u001b[38;5;28mprint\u001b[39m(\u001b[38;5;124mf\u001b[39m\u001b[38;5;124m\"\u001b[39m\u001b[38;5;124mkullanıcı kaydı \u001b[39m\u001b[38;5;132;01m{\u001b[39;00mi\u001b[38;5;241m+\u001b[39m\u001b[38;5;241m1\u001b[39m\u001b[38;5;132;01m}\u001b[39;00m\u001b[38;5;124m\"\u001b[39m)\n\u001b[0;32m     36\u001b[0m isim, yas, kilo, boy \u001b[38;5;241m=\u001b[39m bilgi()\n\u001b[1;32m---> 37\u001b[0m vkisi \u001b[38;5;241m=\u001b[39m \u001b[43mvkiHesapla\u001b[49m\u001b[43m(\u001b[49m\u001b[43mboy\u001b[49m\u001b[43m,\u001b[49m\u001b[43m \u001b[49m\u001b[43mkilo\u001b[49m\u001b[43m)\u001b[49m\n\u001b[0;32m     38\u001b[0m deger \u001b[38;5;241m=\u001b[39m degerHesapla(vki)\n\u001b[0;32m     39\u001b[0m kayitTarihi \u001b[38;5;241m=\u001b[39m time\u001b[38;5;241m.\u001b[39mctime(time\u001b[38;5;241m.\u001b[39mtime())\n",
      "\u001b[1;31mTypeError\u001b[0m: vkiHesapla() takes 1 positional argument but 2 were given"
     ]
    }
   ],
   "source": [
    "# 1.Problemin Çözümünü Buraya Yazınız\n",
    "import time \n",
    "kacGiris = int(input(\"kaç kez giriş yapacaksınız?\"))\n",
    "def bilgi():\n",
    "    isim = input(\"isim ve soyisim giriniz.\")\n",
    "    yas = int(input(\"yaşınız kaç\"))\n",
    "    kilo = float(input(\"kaç kilosunuz\"))\n",
    "    boy = float(input(\"boy giriniz.\"))\n",
    "    return isim, yas, kilo, boy\n",
    "\n",
    "def vki(boy, kilo):\n",
    "    return kilo / (boy * boy)\n",
    "\n",
    "def vkiHesapla(vki):\n",
    "    if vki < 18.5:\n",
    "        return \"zayıf\"\n",
    "    elif 18.5 <= vki < 24.9:\n",
    "        return \"normal kilo\"\n",
    "    elif 25 <= vki < 29.9:\n",
    "        return \"fazla kilolu\"\n",
    "    elif 29.9 < vki < 39.9:\n",
    "        return \"obez\"\n",
    "    elif vki > 39.9:\n",
    "        return \"ileri derecede obez(morbid obez)\"\n",
    "\n",
    "def output(isim, yas, kilo, boy, vki, deger, kayitTarihi):\n",
    "    t1 = f\"kullanici adi {isim}\"\n",
    "    t2 = f\"kullanıcının yas, kilo, boy bilgisi {yas},{kilo},{boy}\"\n",
    "    t3= f\"kullanıcın vkisi {vkisi}\"\n",
    "    t4 = f\"değer aralığı {deger}\" \n",
    "    t5 = f\"oluşturma tarihi: {kayitTarihi}\"\n",
    "    return (t1 + \"\\n\" + t2 +\"\\n\" + t3 + \"\\n\"+t4 +\"\\n\"+ t5)\n",
    "\n",
    "for i in range(kacGiris):\n",
    "    print(f\"kullanıcı kaydı {i+1}\")\n",
    "    isim, yas, kilo, boy = bilgi()\n",
    "    vkisi = vkiHesapla(vki)\n",
    "    deger = degerHesapla(vki)\n",
    "    kayitTarihi = time.ctime(time.time())\n",
    "    output1 = output(isim, yas, kilo, boy, vki, deger, kayit_tarihi)\n",
    "with open(\"saglık.txt\", \"a\") as f:\n",
    "          f.write(output_1)\n",
    "          f.write(\"*\"*20)\n",
    "          f.write(\"\\n\")\n",
    "          print(\"kullanıcı kaydedildi.\")\n"
   ]
  },
  {
   "attachments": {},
   "cell_type": "markdown",
   "metadata": {},
   "source": [
    "# Problem 2\n",
    "**YetBar - Smoothie Bank**\n",
    "---\n",
    "YetBar spor salonunun girişinde bulunan, insansız bir sağlıklı içecek otomatıdır. Kullanıcı çeşitli girdiler smoothie içeceğine koyacağı ürünleri belirleyebilir, fiyat hesaplaması yaptırabilir ya da sadece menüyü görüntüleyebilir.\n",
    "\n",
    "**Projenin Amacı:**\n",
    "\n",
    "*   Birbirini etkileyen ve bir kod içerisinde birden fazla defa başvurulacak fonksiyonların oluşturulup, \"fonksiyonel\" proglamlamak.\n",
    "*   Büyük programları yazarken, yazılımcı olarak yapabileceğimiz hatalardan kaçınmak için kontrol yöntemleri geliştirmek.\n",
    "*   Kullanıcı inputlarını ve yaptığımız hesapları, raporlamak/loglamak amacıyla kaydetmek.\n",
    "\n",
    "**Programdan Beklenen Çıktılar**\n",
    "* Program kullanıcıya temelde 2 farklı işlem yapma imkanı sağlar.\n",
    "> 1. Menüyü görüntüleme\n",
    "> 3. Satın alma\n",
    "* Satın alınan her içecek tarih, fiyat bilgisi ile kaydedilmeli ve her zaman ulaşılabilir olmalıdır.\n",
    "\n",
    "\n"
   ]
  },
  {
   "cell_type": "code",
   "execution_count": 27,
   "metadata": {},
   "outputs": [
    {
     "name": "stdout",
     "output_type": "stream",
     "text": [
      "ananasın fiyatı: 7\n"
     ]
    }
   ],
   "source": [
    "# 2.Problemin Çözümünü Buraya Yazınız\n",
    "import time\n",
    "menu = {\"visne\": 2, \"elma\": 1, \"ananas\": 7, \"cilek\": 3}\n",
    "print(\"ananasın fiyatı:\", menu[\"ananas\"])\n",
    "\n",
    "def menuGoruntule():\n",
    "    print(\"yetbar menu\")\n",
    "    for item in list(menu.keys()):\n",
    "        print(f\"{item.upper():<10} : {menu[item]} ₺\")\n",
    "\n",
    "def urunFiyatiHesaplama(urun: str, adet):\n",
    "    assert adet > 0 , \"Ürünün adedi 0 ve 0'dan küçük olamaz.\"\n",
    "\n",
    "    if urun.lower()  not in list(menu.keys()):\n",
    "        return None\n",
    "    else:\n",
    "        return menu[urun] * adet\n",
    "    \n",
    "def satinAlma():\n",
    "    menuGoruntule()\n",
    "    print(\"satın almak istediğiniz ürünü girin. çıkış yapmak için 0 tuşlayın.\")\n",
    "    alinanUrunler = []\n",
    "    alinmaAdedi = []\n",
    "    sonFiyat = 0\n",
    "    while True:\n",
    "        eklenecekler = input(\"hangi ürünü eklemek istiyorsun?\")\n",
    "        if eklenecekler == \"0\":\n",
    "            print(\"kaydediliyor..\")\n",
    "            break\n",
    "        kacEkledin = input(\"ka. adet ürün istiyorsunuz.\")\n",
    "        fiyat = urunFiyatiHesaplama(eklenecekler, kacEkledin)\n",
    "        if fiyat is None:\n",
    "            print(\"seçtiğiniz ürün şu an stoklarımızda mevcut değildir.\")\n",
    "        else:\n",
    "            print(\"seçtiğiniz ürünün fiyatı: {fiyat} \\n  Satın almayı onaylamak için y iptal etmek için n giriniz.\")\n",
    "            kontrol = input(\"Satın almayı onaylıyor musunuz?\")\n",
    "            if kontrol == \"y\":\n",
    "                print(\"satın alma onaylandı.\")\n",
    "                print(\"-\" * 40)\n",
    "                son_fiyat += fiyat\n",
    "                alinanUrunler.append(eklenecekler)\n",
    "                alinmaAdedi.append(kacEkledin)\n",
    "            elif kontrol == \"n\":\n",
    "                print(\"Satın alım iptal.\")\n",
    "                print(\"-\"*40)\n",
    "    return sonFiyat, satinAlma, alinmaAdedi\n",
    "def main():\n",
    "    print(\"YetBar'a hoş geldiniz.\")\n",
    "    program = None\n",
    "    while 1:\n",
    "        program = int(input(\"Tercihiniz: \"))\n",
    "        if program < 0 or program > 2:\n",
    "            print(\"Yanlış bir tercih yaptınız. Lütfen tekrar deneyiniz.\")\n",
    "        elif program == 0:\n",
    "            print(\"Çıkış yapılıyor...\\n Sağlıklı günler dileriz.\")\n",
    "            break\n",
    "        elif program == 1:\n",
    "            menuGoruntule()\n",
    "        elif program == 2:\n",
    "            satinAlma, alinanUrunler, alinmaAdedi = satinAlmaUcreti()\n",
    "            with open(\"kasa.txt\",\"a\") as f:\n",
    "                f.write(str(time.ctime(time.time())))\n",
    "                f.write(\"\\n\")\n",
    "                f.write(','.join(map(str, alinanUrunlerr)))\n",
    "                f.write(\"\\n\")\n",
    "                f.write(','.join(map(str, alinmaAdedi)))\n",
    "                f.write(\"\\n\")\n",
    "                f.write(f\"Toplam: {satinAlmaUcreti}\")\n",
    "                f.write(\"\\n\")\n",
    "                f.write(\"*\"*20)\n",
    "                f.write(\"\\n\")\n",
    "            cikisKontrol = input(\"Başka bir işlem yapmak istiyor musunuz? \") \n",
    "            if cikisKontrol == \"evet\":\n",
    "                pass          \n",
    "            else:\n",
    "                print(\"\\n\\nTEŞEKKÜRLER\")\n",
    "                break\n",
    "\n"
   ]
  }
 ],
 "metadata": {
  "kernelspec": {
   "display_name": "Python 3",
   "language": "python",
   "name": "python3"
  },
  "language_info": {
   "codemirror_mode": {
    "name": "ipython",
    "version": 3
   },
   "file_extension": ".py",
   "mimetype": "text/x-python",
   "name": "python",
   "nbconvert_exporter": "python",
   "pygments_lexer": "ipython3",
   "version": "3.12.3"
  },
  "orig_nbformat": 4,
  "vscode": {
   "interpreter": {
    "hash": "5026d2d6e7aaaaba093def813beadff083d8733e4a511af01735cbabd156995d"
   }
  }
 },
 "nbformat": 4,
 "nbformat_minor": 2
}
