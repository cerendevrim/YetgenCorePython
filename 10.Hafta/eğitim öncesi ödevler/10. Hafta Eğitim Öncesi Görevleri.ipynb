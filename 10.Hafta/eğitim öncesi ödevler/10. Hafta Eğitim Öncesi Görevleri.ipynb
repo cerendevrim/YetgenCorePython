{
 "cells": [
  {
   "attachments": {},
   "cell_type": "markdown",
   "metadata": {},
   "source": [
    "# Problem 1"
   ]
  },
  {
   "cell_type": "code",
   "execution_count": 21,
   "metadata": {},
   "outputs": [
    {
     "name": "stdout",
     "output_type": "stream",
     "text": [
      "(5,)\n",
      "[[2]\n",
      " [4]\n",
      " [5]\n",
      " [7]\n",
      " [9]]\n",
      "1\n"
     ]
    }
   ],
   "source": [
    "# 1 - numpy kütüphanesini import edin\n",
    "import numpy as np\n",
    "\n",
    "# 2 - 0 ile 10 arasında 5 sayıdan oluşan matris üretin\n",
    "a = np.array([2,4,5,7,9])\n",
    "\n",
    "# 3 - matris'in boyutunu öğrenin\n",
    "print(a.shape)\n",
    "\n",
    "# 4 - matris'i yeniden boyutlandırın\n",
    "a = np.array([2,4,5,7,9])\n",
    "x = a.reshape([5,1])\n",
    "print(x)\n",
    "\n",
    "# 5 - matris'in boyut sayısını öğrenin\n",
    "print(a.ndim)\n"
   ]
  },
  {
   "attachments": {},
   "cell_type": "markdown",
   "metadata": {},
   "source": [
    "# Problem 2"
   ]
  },
  {
   "cell_type": "code",
   "execution_count": 43,
   "metadata": {},
   "outputs": [
    {
     "name": "stdout",
     "output_type": "stream",
     "text": [
      "[array([1, 3]), array([5]), array([7, 9])]\n",
      "[1 3 5 7 9]\n"
     ]
    }
   ],
   "source": [
    "# 1 - 0 ile 10 arasında bulunan tek sayılardan oluşan matris üretin\n",
    "tek = np.array([1,3,5,7,9])\n",
    "\n",
    "# 2 - Oluşturduğunuz matrisi parçalayın\n",
    "ayır = np.split(tek, [2,3])\n",
    "print(ayır)\n",
    "\n",
    "# 3 - Parçalanmış matrisleri birleştirin\n",
    "\n",
    "print(np.concatenate(ayır))\n"
   ]
  },
  {
   "attachments": {},
   "cell_type": "markdown",
   "metadata": {},
   "source": [
    "# Problem 3"
   ]
  },
  {
   "cell_type": "code",
   "execution_count": 61,
   "metadata": {},
   "outputs": [
    {
     "name": "stdout",
     "output_type": "stream",
     "text": [
      "[99 35  9 93 15 67 63 49 35 69]\n",
      "1\n",
      "(10,)\n",
      "10\n",
      "int64\n"
     ]
    }
   ],
   "source": [
    "# 1 - 5 ile 100 arasında ikişer ikişer atlayarak rastgele 10 sayıdan oluşan matris üretin\n",
    "aralık = np.arange(5,101,2)\n",
    "\n",
    "aralik2 = np.random.choice(aralık,size = 10)\n",
    "print(aralik2)\n",
    "\n",
    "# 2 - matris'in özelliklerini inceleyin\n",
    "print(aralik2.ndim)\n",
    "print(aralik2.shape)\n",
    "print(aralik2.size)\n",
    "print(aralik2.dtype)"
   ]
  }
 ],
 "metadata": {
  "kernelspec": {
   "display_name": "Python 3",
   "language": "python",
   "name": "python3"
  },
  "language_info": {
   "codemirror_mode": {
    "name": "ipython",
    "version": 3
   },
   "file_extension": ".py",
   "mimetype": "text/x-python",
   "name": "python",
   "nbconvert_exporter": "python",
   "pygments_lexer": "ipython3",
   "version": "3.12.3"
  },
  "orig_nbformat": 4,
  "vscode": {
   "interpreter": {
    "hash": "5026d2d6e7aaaaba093def813beadff083d8733e4a511af01735cbabd156995d"
   }
  }
 },
 "nbformat": 4,
 "nbformat_minor": 2
}
