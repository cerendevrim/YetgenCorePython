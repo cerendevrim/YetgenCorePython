{
 "cells": [
  {
   "cell_type": "code",
   "execution_count": 9,
   "metadata": {},
   "outputs": [],
   "source": [
    "#list comprehension tek satırda yazma işlemimizi kolaylaştırıyor\n",
    "##daha komplike kod bloklarını daha az satırda yazdırıyo \n",
    "liste = [1,2,3,4,5,6,7,8,9]\n",
    "yeniListe = [i * i * i for i in liste]"
   ]
  },
  {
   "cell_type": "code",
   "execution_count": 3,
   "metadata": {},
   "outputs": [
    {
     "name": "stdout",
     "output_type": "stream",
     "text": [
      "[1, 8, 27, 64, 125, 216, 343, 512, 729]\n"
     ]
    }
   ],
   "source": [
    "print(yeniListe)"
   ]
  },
  {
   "cell_type": "code",
   "execution_count": 6,
   "metadata": {},
   "outputs": [
    {
     "name": "stdout",
     "output_type": "stream",
     "text": [
      "[2, 3, 8, 5, 9, 2, 6, 9]\n"
     ]
    }
   ],
   "source": [
    "liste = [[2,3],[8,5],[9,2],[6,9]]\n",
    "liste2 = [x for i in liste for x in i ]\n",
    "print(liste2)\n",
    "#daha kolaylaştırıyo işimizi karmaşıklığı önlüyo"
   ]
  },
  {
   "cell_type": "code",
   "execution_count": 8,
   "metadata": {},
   "outputs": [
    {
     "name": "stdout",
     "output_type": "stream",
     "text": [
      "[1, 2, 3, 5, 6, 7, 8]\n"
     ]
    }
   ],
   "source": [
    "liste1 = [1,2,3,4,5,6,7,8,9]\n",
    "liste2 = [i for i in liste1 if not(i == 4 or i == 9)]\n",
    "print(liste2)"
   ]
  },
  {
   "cell_type": "code",
   "execution_count": 11,
   "metadata": {},
   "outputs": [
    {
     "name": "stdout",
     "output_type": "stream",
     "text": [
      "[16, 49, 4, 64, 9, 54756, 538756, 5559790096]\n"
     ]
    }
   ],
   "source": [
    "s = [4,7,2,8,3,234,734,74564]\n",
    "s2 = [r*r for r in s]\n",
    "print(s2)"
   ]
  },
  {
   "cell_type": "code",
   "execution_count": 25,
   "metadata": {},
   "outputs": [
    {
     "name": "stdout",
     "output_type": "stream",
     "text": [
      "[4, 6, 8, 12, 432, 78, 456, 87654]\n",
      "[3, 6, 9, 9, 12, 432, 57, 78, 456, 867, 87654]\n",
      "[16, 36, 64, 144, 186624, 6084, 207936, 7683223716]\n",
      "[36, 64, 144, 186624, 6084, 207936, 7683223716]\n"
     ]
    }
   ],
   "source": [
    "#koşul en sona yazılcak\n",
    "## koşul yazarken if ile devam edicez.\n",
    "c = [3,4,5,6,7,8,9,9,12,432,57,78,65,456,867,87654]\n",
    "c2 = [r for r in c if r %2 == 0 ]\n",
    "print(c2)\n",
    "c3 = [r for r in c if r %3 == 0]\n",
    "print(c3)\n",
    "c4 = [r * r for r in c if r %2 == 0]\n",
    "print(c4)\n",
    "c5 = [r * r for r in c if r %2 == 0 and r > 4]\n",
    "print(c5)"
   ]
  },
  {
   "cell_type": "code",
   "execution_count": 33,
   "metadata": {},
   "outputs": [
    {
     "name": "stdout",
     "output_type": "stream",
     "text": [
      "[(1, 'a'), (1, ','), (1, 'b'), (1, ','), (1, 'c'), (1, ','), (1, 'd'), (1, ','), (1, 'f'), (1, ','), (1, 'e'), (2, 'a'), (2, ','), (2, 'b'), (2, ','), (2, 'c'), (2, ','), (2, 'd'), (2, ','), (2, 'f'), (2, ','), (2, 'e'), (3, 'a'), (3, ','), (3, 'b'), (3, ','), (3, 'c'), (3, ','), (3, 'd'), (3, ','), (3, 'f'), (3, ','), (3, 'e'), (4, 'a'), (4, ','), (4, 'b'), (4, ','), (4, 'c'), (4, ','), (4, 'd'), (4, ','), (4, 'f'), (4, ','), (4, 'e'), (5, 'a'), (5, ','), (5, 'b'), (5, ','), (5, 'c'), (5, ','), (5, 'd'), (5, ','), (5, 'f'), (5, ','), (5, 'e'), (6, 'a'), (6, ','), (6, 'b'), (6, ','), (6, 'c'), (6, ','), (6, 'd'), (6, ','), (6, 'f'), (6, ','), (6, 'e'), (78, 'a'), (78, ','), (78, 'b'), (78, ','), (78, 'c'), (78, ','), (78, 'd'), (78, ','), (78, 'f'), (78, ','), (78, 'e')]\n"
     ]
    }
   ],
   "source": [
    "liste = [1,2,3,4,5,6,78]\n",
    "listeA = \"a,b,c,d,f,e\"\n",
    "list = [(number, letter) for number in liste for letter in listeA]\n",
    "print(list)\n",
    "\n"
   ]
  },
  {
   "cell_type": "code",
   "execution_count": 36,
   "metadata": {},
   "outputs": [
    {
     "name": "stdout",
     "output_type": "stream",
     "text": [
      "[405769, 4, 49, 767376]\n"
     ]
    }
   ],
   "source": [
    "#diğer listede olmayanı bulurken koşul koyuyorsun sonuna \n",
    "liste = [9,637,4,2,7,876,5]\n",
    "liste2 = [6,9,4,98,5,987,32]\n",
    "liste3 = [x*x for x in liste if not x in liste2]\n",
    "print(liste3)"
   ]
  },
  {
   "cell_type": "code",
   "execution_count": 42,
   "metadata": {},
   "outputs": [
    {
     "data": {
      "text/plain": [
       "5"
      ]
     },
     "execution_count": 42,
     "metadata": {},
     "output_type": "execute_result"
    }
   ],
   "source": [
    "#fonksiyonlar ve argumanlar\n",
    "#fonksiyon karmaşık işlemleri bir araya toplar tek adımda yapmanı sağlar.\n",
    "##ihtiyacın olduğunda fonksiyonu çağırırsın işlevselliği arttırır.\n",
    "## parantez içine fonksiyon argüman bekliyorsa onu yazarız\n",
    "def besBastir():\n",
    "    print(5)\n",
    "#docstring koda etki etmez üç tırnakla da belirtebilirsin. \n",
    "#return bir şey döndürür print yazdırır farkları bu.\n",
    "def besDondur():\n",
    "    return 5\n",
    "besDondur()\n",
    "\n"
   ]
  },
  {
   "cell_type": "code",
   "execution_count": 43,
   "metadata": {},
   "outputs": [
    {
     "name": "stdout",
     "output_type": "stream",
     "text": [
      "5\n"
     ]
    }
   ],
   "source": [
    "b = besDondur()\n",
    "print(b)"
   ]
  },
  {
   "cell_type": "code",
   "execution_count": 44,
   "metadata": {},
   "outputs": [
    {
     "name": "stdout",
     "output_type": "stream",
     "text": [
      "5\n",
      "None\n"
     ]
    }
   ],
   "source": [
    "a = besBastir()\n",
    "print(a)"
   ]
  },
  {
   "cell_type": "code",
   "execution_count": 81,
   "metadata": {},
   "outputs": [
    {
     "name": "stdout",
     "output_type": "stream",
     "text": [
      "4.5\n"
     ]
    }
   ],
   "source": [
    "def dikUcgenAlani(a,b):\n",
    "    return (a + b) / 2\n",
    "alan = dikUcgenAlani(4,5)\n",
    "print(alan)"
   ]
  },
  {
   "cell_type": "code",
   "execution_count": 82,
   "metadata": {},
   "outputs": [
    {
     "data": {
      "text/plain": [
       "7.0"
      ]
     },
     "execution_count": 82,
     "metadata": {},
     "output_type": "execute_result"
    }
   ],
   "source": [
    "dikUcgenAlani(6,8)"
   ]
  },
  {
   "cell_type": "code",
   "execution_count": 46,
   "metadata": {},
   "outputs": [
    {
     "data": {
      "text/plain": [
       "200"
      ]
     },
     "execution_count": 46,
     "metadata": {},
     "output_type": "execute_result"
    }
   ],
   "source": [
    "#argüman\n",
    "def sayiDondur(sayi):\n",
    "    return sayi\n",
    "sayiDondur(100)\n",
    "sayiDondur(200)"
   ]
  },
  {
   "cell_type": "code",
   "execution_count": 50,
   "metadata": {},
   "outputs": [
    {
     "data": {
      "text/plain": [
       "400"
      ]
     },
     "execution_count": 50,
     "metadata": {},
     "output_type": "execute_result"
    }
   ],
   "source": [
    "def sayiDondur(sayi=250):\n",
    "    return sayi\n",
    "sayiDondur(400)"
   ]
  },
  {
   "cell_type": "code",
   "execution_count": 52,
   "metadata": {},
   "outputs": [
    {
     "data": {
      "text/plain": [
       "250"
      ]
     },
     "execution_count": 52,
     "metadata": {},
     "output_type": "execute_result"
    }
   ],
   "source": [
    "#içine bir değer girmezsem tanımladığım sayı çıkacak\n",
    "sayiDondur()"
   ]
  },
  {
   "cell_type": "code",
   "execution_count": 54,
   "metadata": {},
   "outputs": [
    {
     "data": {
      "text/plain": [
       "4733"
      ]
     },
     "execution_count": 54,
     "metadata": {},
     "output_type": "execute_result"
    }
   ],
   "source": [
    "#birden çok argüman varsa\n",
    "def buyukSayiDondur(a,b):\n",
    "    if a>b:\n",
    "        return a\n",
    "    elif b>a:\n",
    "        return b\n",
    "buyukSayiDondur(8,4)\n",
    "buyukSayiDondur(3983,4733)"
   ]
  },
  {
   "cell_type": "code",
   "execution_count": 57,
   "metadata": {},
   "outputs": [],
   "source": [
    "#fonksiyonların birbiri ile ilişkisi\n",
    "def metin(a,b):\n",
    "    buyukSayi = buyukSayiDondur(a,b)\n",
    "    sablon = \"{} daha büyük sayıdır.\".format(buyukSayi)\n",
    "    print(sablon)\n",
    "    "
   ]
  },
  {
   "cell_type": "code",
   "execution_count": 58,
   "metadata": {},
   "outputs": [
    {
     "name": "stdout",
     "output_type": "stream",
     "text": [
      "49 daha büyük sayıdır.\n"
     ]
    }
   ],
   "source": [
    "metin(47,49)"
   ]
  },
  {
   "cell_type": "code",
   "execution_count": 62,
   "metadata": {},
   "outputs": [],
   "source": [
    "#birden fazla sonuç dödndürme\n",
    "def isimSoyisimAyirma(isim_soyisim):\n",
    "    isim = isim_soyisim.split()[0]\n",
    "    soyisim = isim_soyisim.split()[1]\n",
    "    return isim, soyisim"
   ]
  },
  {
   "cell_type": "code",
   "execution_count": 63,
   "metadata": {},
   "outputs": [
    {
     "data": {
      "text/plain": [
       "('Ceren', 'Devrim')"
      ]
     },
     "execution_count": 63,
     "metadata": {},
     "output_type": "execute_result"
    }
   ],
   "source": [
    "isimSoyisimAyirma(\"Ceren Devrim\")"
   ]
  },
  {
   "cell_type": "code",
   "execution_count": 64,
   "metadata": {},
   "outputs": [
    {
     "name": "stdout",
     "output_type": "stream",
     "text": [
      "Ceren\n",
      "Devrim\n"
     ]
    }
   ],
   "source": [
    "a, b = isimSoyisimAyirma(\"Ceren Devrim\")\n",
    "print(a)\n",
    "print(b)"
   ]
  },
  {
   "cell_type": "code",
   "execution_count": 71,
   "metadata": {},
   "outputs": [],
   "source": [
    "#ARGS AYIRMA\n",
    "#sınırsız parametreli yapcaksak başına * koyuyoruz.\n",
    "def isimSoyisimBirlestirme(isim,soyisim):\n",
    "   return \" \".join([isim, soyisim])\n",
    "\n"
   ]
  },
  {
   "cell_type": "code",
   "execution_count": 72,
   "metadata": {},
   "outputs": [
    {
     "data": {
      "text/plain": [
       "'BİLMEM NE'"
      ]
     },
     "execution_count": 72,
     "metadata": {},
     "output_type": "execute_result"
    }
   ],
   "source": [
    "isimSoyisimBirlestirme(\"BİLMEM\", \"NE\")"
   ]
  },
  {
   "cell_type": "code",
   "execution_count": 73,
   "metadata": {},
   "outputs": [],
   "source": [
    "#peki iki ismim varsa napacağım?\n",
    "##args devreye giriyor.\n",
    "def isimSoyisimBirlestirme(*args):\n",
    "   return \" \".join(args)"
   ]
  },
  {
   "cell_type": "code",
   "execution_count": 75,
   "metadata": {},
   "outputs": [
    {
     "data": {
      "text/plain": [
       "'bilmem ne falan'"
      ]
     },
     "execution_count": 75,
     "metadata": {},
     "output_type": "execute_result"
    }
   ],
   "source": [
    "isimSoyisimBirlestirme(\"bilmem\", \"ne\", \"falan\")"
   ]
  },
  {
   "cell_type": "code",
   "execution_count": 77,
   "metadata": {},
   "outputs": [],
   "source": [
    "#KWARGS \n",
    "#** koyduğumuz zaman anahtar değer ilişkisiyle cağırabiliyoruz. \n",
    "#argstan farkı budur. args = * kwargs = **\n",
    "def gobekAd(**kwargs):\n",
    "    if \"gobekadi\" in kwargs:\n",
    "        print(kwargs['gobekadi'])\n",
    "    else:\n",
    "        print(\"gobekadı yok\")\n",
    "\n",
    "\n"
   ]
  },
  {
   "cell_type": "code",
   "execution_count": 78,
   "metadata": {},
   "outputs": [
    {
     "name": "stdout",
     "output_type": "stream",
     "text": [
      "gobekadı yok\n"
     ]
    }
   ],
   "source": [
    "gobekAd(ad=\"ceren\", soyad=\"devrim\")"
   ]
  },
  {
   "cell_type": "code",
   "execution_count": null,
   "metadata": {},
   "outputs": [],
   "source": [
    "## pass görmezden gel demektir.\n",
    "#pek anlamadım."
   ]
  },
  {
   "cell_type": "code",
   "execution_count": 83,
   "metadata": {},
   "outputs": [],
   "source": [
    "##GLOBAL DEĞİŞKENLER\n",
    "#fonksiyonlarımızın dışında tanımladıklarımızdır."
   ]
  },
  {
   "cell_type": "code",
   "execution_count": null,
   "metadata": {},
   "outputs": [],
   "source": [
    "#üstünde tanımladıklarımız global değişkenler\n",
    "def goster():\n",
    "#altında tanımladıklarımız yerel değişkenler\n"
   ]
  },
  {
   "cell_type": "code",
   "execution_count": 85,
   "metadata": {},
   "outputs": [
    {
     "name": "stdout",
     "output_type": "stream",
     "text": [
      "5\n",
      "5\n"
     ]
    }
   ],
   "source": [
    "def yazdir():\n",
    "    global x\n",
    "    x = 5 \n",
    "    print(x)\n",
    "yazdir()\n",
    "print(x)"
   ]
  },
  {
   "cell_type": "code",
   "execution_count": null,
   "metadata": {},
   "outputs": [],
   "source": [
    "#LAMBDA GÖSTERİMLERİ\n",
    "##isimsiz olarak tanımladıklarımız.\n",
    "###tek satırda yazılır.\n"
   ]
  },
  {
   "cell_type": "code",
   "execution_count": null,
   "metadata": {},
   "outputs": [],
   "source": [
    "#Lambda fonksiyonu bir başka fonksiyon içinde kullanıldığında anlam kazanır. \n",
    "\n",
    "#Örneğin bir sayının karesini mi kübünü mü almak istediğinizden emin değilsiniz\n",
    "# bu durumda bir fonksiyon içerisinde lambda tanımlaması \n",
    "# yaparak istediğimiz bir aşamada geriye çalıştırılabilir\n",
    "# bir fonksiyon döndürebilirsiniz."
   ]
  },
  {
   "cell_type": "code",
   "execution_count": 86,
   "metadata": {},
   "outputs": [
    {
     "data": {
      "text/plain": [
       "10.0"
      ]
     },
     "execution_count": 86,
     "metadata": {},
     "output_type": "execute_result"
    }
   ],
   "source": [
    "dikUcgenAlani = lambda a,b: a*b/2\n",
    "dikUcgenAlani(4,5)"
   ]
  },
  {
   "cell_type": "code",
   "execution_count": 88,
   "metadata": {},
   "outputs": [
    {
     "name": "stdout",
     "output_type": "stream",
     "text": [
      "12\n"
     ]
    }
   ],
   "source": [
    "ikiylecarp = lambda x : print(x * 2)\n",
    "ikiylecarp(6)"
   ]
  }
 ],
 "metadata": {
  "kernelspec": {
   "display_name": "Python 3",
   "language": "python",
   "name": "python3"
  },
  "language_info": {
   "codemirror_mode": {
    "name": "ipython",
    "version": 3
   },
   "file_extension": ".py",
   "mimetype": "text/x-python",
   "name": "python",
   "nbconvert_exporter": "python",
   "pygments_lexer": "ipython3",
   "version": "3.12.3"
  }
 },
 "nbformat": 4,
 "nbformat_minor": 2
}
